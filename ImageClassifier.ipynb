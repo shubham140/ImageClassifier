{
 "cells": [
  {
   "cell_type": "markdown",
   "metadata": {},
   "source": [
    "# Developing an AI application"
   ]
  },
  {
   "cell_type": "markdown",
   "metadata": {},
   "source": [
    "Going forward, AI algorithms will be incorporated into more and more everyday applications. For example, you might want to include an image classifier in a smart phone app. To do this, you'd use a deep learning model trained on hundreds of thousands of images as part of the overall application architecture. A large part of software development in the future will be using these types of models as common parts of applications.\n",
    "\n",
    "In this project, you'll train an image classifier to recognize different species of flowers. You can imagine using something like this in a phone app that tells you the name of the flower your camera is looking at. In practice you'd train this classifier, then export it for use in your application. We'll be using this dataset of 102 flower categories, you can see a few examples below.\n",
    "\n",
    "<img src='assets/Flowers.png' width=500px>\n",
    "\n",
    "The project is broken down into multiple steps:\n",
    "\n",
    "Load and preprocess the image dataset\n",
    "Train the image classifier on your dataset\n",
    "Use the trained classifier to predict image content\n",
    "We'll lead you through each part which you'll implement in Python.\n",
    "\n",
    "When you've completed this project, you'll have an application that can be trained on any set of labeled images. Here your network will be learning about flowers and end up as a command line application. But, what you do with your new skills depends on your imagination and effort in building a dataset. For example, imagine an app where you take a picture of a car, it tells you what the make and model is, then looks up information about it. Go build your own dataset and make something new.\n",
    "\n",
    "First up is importing the packages you'll need. It's good practice to keep all the imports at the beginning of your code. As you work through this notebook and find you need to import a package, make sure to add the import up here."
   ]
  },
  {
   "cell_type": "code",
   "execution_count": 1,
   "metadata": {},
   "outputs": [
    {
     "ename": "ModuleNotFoundError",
     "evalue": "No module named 'torch'",
     "output_type": "error",
     "traceback": [
      "\u001b[1;31m---------------------------------------------------------------------------\u001b[0m",
      "\u001b[1;31mModuleNotFoundError\u001b[0m                       Traceback (most recent call last)",
      "\u001b[1;32m<ipython-input-1-5b40d2eaf929>\u001b[0m in \u001b[0;36m<module>\u001b[1;34m\u001b[0m\n\u001b[0;32m     10\u001b[0m \u001b[1;32mimport\u001b[0m \u001b[0mseaborn\u001b[0m \u001b[1;32mas\u001b[0m \u001b[0msb\u001b[0m\u001b[1;33m\u001b[0m\u001b[1;33m\u001b[0m\u001b[0m\n\u001b[0;32m     11\u001b[0m \u001b[1;33m\u001b[0m\u001b[0m\n\u001b[1;32m---> 12\u001b[1;33m \u001b[1;32mimport\u001b[0m \u001b[0mtorch\u001b[0m\u001b[1;33m\u001b[0m\u001b[1;33m\u001b[0m\u001b[0m\n\u001b[0m\u001b[0;32m     13\u001b[0m \u001b[1;32mfrom\u001b[0m \u001b[0mtorch\u001b[0m \u001b[1;32mimport\u001b[0m \u001b[0mnn\u001b[0m\u001b[1;33m,\u001b[0m \u001b[0moptim\u001b[0m\u001b[1;33m\u001b[0m\u001b[1;33m\u001b[0m\u001b[0m\n\u001b[0;32m     14\u001b[0m \u001b[1;32mfrom\u001b[0m \u001b[0mtorchvision\u001b[0m \u001b[1;32mimport\u001b[0m \u001b[0mdatasets\u001b[0m\u001b[1;33m,\u001b[0m \u001b[0mtransforms\u001b[0m\u001b[1;33m,\u001b[0m \u001b[0mmodels\u001b[0m\u001b[1;33m\u001b[0m\u001b[1;33m\u001b[0m\u001b[0m\n",
      "\u001b[1;31mModuleNotFoundError\u001b[0m: No module named 'torch'"
     ]
    }
   ],
   "source": [
    "# Imports here\n",
    "import json\n",
    "import pandas as pd\n",
    "import numpy as np \n",
    "import PIL\n",
    "\n",
    "import matplotlib.pyplot as plt\n",
    "%matplotlib inline\n",
    "%config InlineBackend.figure_format = 'retina'\n",
    "import seaborn as sb\n",
    "\n",
    "import torch\n",
    "from torch import nn, optim\n",
    "from torchvision import datasets, transforms, models\n",
    "from collections import OrderedDict \n",
    "from torch.nn import functional as F\n",
    "\n",
    "from torch.autograd import Variable"
   ]
  },
  {
   "cell_type": "markdown",
   "metadata": {},
   "source": [
    "# Load the data"
   ]
  },
  {
   "cell_type": "markdown",
   "metadata": {},
   "source": [
    "Here you'll use torchvision to load the data (documentation). The data should be included alongside this notebook, otherwise you can download it here. The dataset is split into three parts, training, validation, and testing. For the training, you'll want to apply transformations such as random scaling, cropping, and flipping. This will help the network generalize leading to better performance. You'll also need to make sure the input data is resized to 224x224 pixels as required by the pre-trained networks.\n",
    "\n",
    "The validation and testing sets are used to measure the model's performance on data it hasn't seen yet. For this you don't want any scaling or rotation transformations, but you'll need to resize then crop the images to the appropriate size.\n",
    "\n",
    "The pre-trained networks you'll use were trained on the ImageNet dataset where each color channel was normalized separately. For all three sets you'll need to normalize the means and standard deviations of the images to what the network expects. For the means, it's [0.485, 0.456, 0.406] and for the standard deviations [0.229, 0.224, 0.225], calculated from the ImageNet images. These values will shift each color channel to be centered at 0 and range from -1 to 1."
   ]
  },
  {
   "cell_type": "code",
   "execution_count": null,
   "metadata": {},
   "outputs": [],
   "source": [
    "data_dir = 'flowers'\n",
    "train_dir = data_dir + '/train'\n",
    "valid_dir = data_dir + '/valid'\n",
    "test_dir = data_dir + '/test'"
   ]
  },
  {
   "cell_type": "code",
   "execution_count": null,
   "metadata": {},
   "outputs": [],
   "source": [
    "# DONE: Define your transforms for the training, validation, and testing sets\n",
    "train_transforms = transforms.Compose([transforms.Resize(255),\n",
    "                                       transforms.RandomCrop(224),\n",
    "                                       transforms.RandomRotation(35),\n",
    "                                       transforms.RandomHorizontalFlip(),\n",
    "                                       transforms.RandomVerticalFlip(),\n",
    "                                       transforms.ToTensor(),\n",
    "                                       transforms.Normalize([0.485, 0.456, 0.406],\n",
    "                                                          [0.229, 0.224, 0.225])\n",
    "                                      ])\n",
    "\n",
    "val_test_transforms = transforms.Compose([transforms.Resize(255), \n",
    "                                     transforms.CenterCrop(224),\n",
    "                                     transforms.ToTensor(),\n",
    "                                     transforms.Normalize([0.485, 0.456, 0.406],\n",
    "                                                          [0.229, 0.224, 0.225])\n",
    "                                         ])\n",
    "\n",
    "# DONE: Load the datasets with ImageFolder\n",
    "train_data = datasets.ImageFolder(train_dir, transform=train_transforms)\n",
    "valid_data = datasets.ImageFolder(valid_dir, transform=val_test_transforms)\n",
    "test_data = datasets.ImageFolder(test_dir, transform=val_test_transforms)\n",
    "\n",
    "# DONE: Using the image datasets and the transforms, define the dataloaders\n",
    "trainloader = torch.utils.data.DataLoader(train_data, batch_size=32, shuffle=True)\n",
    "validloader = torch.utils.data.DataLoader(valid_data, batch_size=32)\n",
    "testloader = torch.utils.data.DataLoader(test_data, batch_size=32)"
   ]
  },
  {
   "cell_type": "code",
   "execution_count": null,
   "metadata": {},
   "outputs": [],
   "source": [
    "Label mapping\n",
    "You'll also need to load in a mapping from category label to category name. You can find this in the file cat_to_name.json. It's a JSON object which you can read in with the json module. This will give you a dictionary mapping the integer encoded categories to the actual names of the flowers."
   ]
  },
  {
   "cell_type": "code",
   "execution_count": null,
   "metadata": {},
   "outputs": [],
   "source": [
    "with open('cat_to_name.json', 'r') as f:\n",
    "    cat_to_name = json.load(f)\n",
    "    \n",
    "cat_to_name"
   ]
  },
  {
   "cell_type": "code",
   "execution_count": null,
   "metadata": {},
   "outputs": [],
   "source": [
    "Building and training the classifier\n",
    "Now that the data is ready, it's time to build and train the classifier. As usual, you should use one of the pretrained models from torchvision.models to get the image features. Build and train a new feed-forward classifier using those features.\n",
    "\n",
    "We're going to leave this part up to you. If you want to talk through it with someone, chat with your fellow students! You can also ask questions on the forums or join the instructors in office hours.\n",
    "\n",
    "Refer to the rubric for guidance on successfully completing this section. Things you'll need to do:\n",
    "\n",
    "Load a pre-trained network (If you need a starting point, the VGG networks work great and are straightforward to use)\n",
    "Define a new, untrained feed-forward network as a classifier, using ReLU activations and dropout\n",
    "Train the classifier layers using backpropagation using the pre-trained network to get the features\n",
    "Track the loss and accuracy on the validation set to determine the best hyperparameters\n",
    "We've left a cell open for you below, but use as many as you need. Our advice is to break the problem up into smaller parts you can run separately. Check that each part is doing what you expect, then move on to the next. You'll likely find that as you work through each part, you'll need to go back and modify your previous code. This is totally normal!\n",
    "\n",
    "When training make sure you're updating only the weights of the feed-forward network. You should be able to get the validation accuracy above 70% if you build everything right. Make sure to try different hyperparameters (learning rate, units in the classifier, epochs, etc) to find the best model. Save those hyperparameters to use as default values in the next part of the project."
   ]
  },
  {
   "cell_type": "code",
   "execution_count": null,
   "metadata": {},
   "outputs": [],
   "source": [
    "\n",
    "# DONE: Build and train your network\n",
    "model = models.resnet50(pretrained=True)\n",
    "model"
   ]
  },
  {
   "cell_type": "code",
   "execution_count": null,
   "metadata": {},
   "outputs": [],
   "source": [
    "#Iterates through the entire pre-trained network and turns off the gradient calculation and update, effectively freezing\n",
    "#the network that has already been trained on ImageNet \n",
    "for param in model.parameters(): \n",
    "    param.requires_grad = False\n",
    "\n",
    "#this adapts and tunes the head classifier 'fc' to fit this flower dataset with only 102 flower species, instead of 1000 classes\n",
    "#this part of the model will be trained on the flower dataset\n",
    "model.fc = nn.Sequential(OrderedDict([\n",
    "                                    ('fc1', nn.Linear(2048, 512)),\n",
    "                                    ('relu', nn.ReLU()),\n",
    "                                    ('dropout', nn.Dropout(p=0.5)),\n",
    "                                    ('fc2', nn.Linear(512, 102)),\n",
    "                                    #the logarithm of the softmax probabilities is returned because of faster and \n",
    "                                    #usually more accurate computation. As computers use a base 2 number system, the computer\n",
    "                                    #would store the float values of the softmax probabilities with imprecision\n",
    "                                    #logarithm of the softmax improves numerical stability\n",
    "                                    ('output', nn.LogSoftmax(dim=1))\n",
    "                                    ]))\n",
    "\n",
    "model.fc"
   ]
  },
  {
   "cell_type": "code",
   "execution_count": null,
   "metadata": {},
   "outputs": [],
   "source": [
    "# DONE: Do validation on the validation set\n",
    "def validation(loader, device='cpu'):\n",
    "    \n",
    "    model.to(device) #sends to the network to either cpu ('cpu') or gpu ('cuda')\n",
    "    model.eval() #turns dropout off to give an undistorted validation and test result\n",
    "    \n",
    "    #we use Negative Likelihood log loss function because the output from the model is log_Softmax\n",
    "    criterion = nn.NLLLoss() \n",
    "    running_loss = 0 #initialization of loss score\n",
    "    acc = 0 #initialization of accuracy \n",
    "    \n",
    "    #the .no_grad ensures that the model does not calculate the gradient and update the weights during validation and testing\n",
    "    with torch.no_grad():\n",
    "        #the for loop to iterate over all images and labels in the validation and test sets \n",
    "        for images, labels in loader:\n",
    "            #this sends the data input to either cpu ('cpu') or gpu ('cuda')\n",
    "            images, labels = images.to(device), labels.to(device) \n",
    "            \n",
    "            #forward pass and only forward pass\n",
    "            output = model.forward(images)\n",
    "            running_loss += criterion(output, labels).item()\n",
    "\n",
    "            probs = torch.exp(output)\n",
    "            \n",
    "            #this is the comparison of the truth class index with the predicted class index to get the corrected prediciton\n",
    "            #that is a list of 0s and 1s. \n",
    "            corrected_pred = (labels.data == probs.max(dim=1)[1])\n",
    "            \n",
    "            #here we get the accuracy by first converting the tensor a float tensor and apply the mean method\n",
    "            #which sums up all the 1s and 0s, and divides by the total number of items\n",
    "            acc += corrected_pred.type(torch.FloatTensor).mean()\n",
    "    \n",
    "    return running_loss/len(loader), acc/len(loader) * 100"
   ]
  },
  {
   "cell_type": "code",
   "execution_count": null,
   "metadata": {},
   "outputs": [],
   "source": [
    "def train(epochs, optimizer, device='cpu'):   \n",
    "    \n",
    "    epochs = epochs \n",
    "    \n",
    "    steps = 0 \n",
    "    running_loss = 0\n",
    "    acc = 0 \n",
    "    \n",
    "    model.to(device)#this gives the option of either cpu('cpu') or gpu('cuda')\n",
    "    \n",
    "    #Negative Log Likelihood Loss function, we use this because the output is in log form \n",
    "    criterion = nn.NLLLoss()\n",
    "\n",
    "    for e in range(epochs):\n",
    "        \n",
    "        for idx, (images, labels) in enumerate(trainloader):\n",
    "            \n",
    "            steps += 1\n",
    "\n",
    "            images, labels = images.to(device), labels.to(device)\n",
    "\n",
    "            #sets the gradient to zero after each pass to prevent accumulating an inaccurately large gradient\n",
    "            optimizer.zero_grad()\n",
    "\n",
    "            output = model.forward(images)\n",
    "            loss = criterion(output, labels)\n",
    "            \n",
    "            #Backward pass: where backward propagation occurs \n",
    "            loss.backward()\n",
    "            \n",
    "            #the weight update step where the optimizer applies the calculated negative gradient to weights and biases\n",
    "            optimizer.step()\n",
    "            \n",
    "            #captures the loss during training, getting the scalar value from the tensor utilizing .item() method \n",
    "            running_loss += loss.item()\n",
    "            \n",
    "            #this converts the log ouput back to expected list of probability values between 0 and 1 using exponential function\n",
    "            #the probs also contains a list of the corresponding class index second in the index at ps[1]\n",
    "            probs = torch.exp(output)\n",
    "            \n",
    "            #this compares the correct class index (label.data) with the predicted class index (probs.max(dim=1)[1]) \n",
    "                                                                                    #associated with max probability\n",
    "            corrected_pred = (labels.data == probs.max(dim=1)[1])\n",
    "            \n",
    "            #this captures the accuracy by taking the mean of all the comparisons that are either 1 for correct \n",
    "            #and 0 for not correct. The eq value is converted to a float tensor because it has the mean as a method \n",
    "            acc += corrected_pred.type(torch.FloatTensor).mean()\n",
    "\n",
    "            if steps % 40 == 0:\n",
    "                \n",
    "                val_loss, val_acc = validation(validloader, 'cuda')\n",
    "                \n",
    "                print(                    #add 1 to e because range(epochs) starts at 0\n",
    "                     'Epoch {}/{}'.format(e+1, epochs), \n",
    "                     'training loss: {:.4f}'.format(running_loss/40), \n",
    "                     'training accuracy: {:.4f}  '.format(acc/40 * 100),\n",
    "                     #do not need to divide by length of validation set, already done in the function\n",
    "                     'Validation loss: {:.4f}'.format(val_loss), \n",
    "                     'Validation accuracy: {}%'.format(val_acc)\n",
    "                     )\n",
    "                #sets the running_loss and accuracy back to zero so the loss and accuracy do not accumulate\n",
    "                #and become too large, distorting the performance view during training\n",
    "                running_loss = 0\n",
    "                acc = 0"
   ]
  },
  {
   "cell_type": "code",
   "execution_count": null,
   "metadata": {},
   "outputs": [],
   "source": [
    "#here was use the Adam optimizer with a learning rate of .001, \n",
    "#applies the Adam optimizer to only the head classifier of the pretrained network\n",
    "optimizer = optim.Adam(model.fc.parameters(), lr = .001)"
   ]
  },
  {
   "cell_type": "code",
   "execution_count": null,
   "metadata": {},
   "outputs": [],
   "source": [
    "\n",
    "train(epochs=35, optimizer=optimizer, device='cuda')"
   ]
  },
  {
   "cell_type": "markdown",
   "metadata": {},
   "source": [
    "Testing your network¶\n",
    "It's good practice to test your trained network on test data, images the network has never seen either in training or validation. This will give you a good estimate for the model's performance on completely new images. Run the test images through the network and measure the accuracy, the same way you did validation. You should be able to reach around 70% accuracy on the test set if the model has been trained well."
   ]
  },
  {
   "cell_type": "code",
   "execution_count": null,
   "metadata": {},
   "outputs": [],
   "source": [
    "\n",
    "#here we get the loss and accuracy on the test set to see if the model overfits, which it mostly doesn't\n",
    "test_loss, test_acc = validation(testloader, 'cuda')\n",
    "\n",
    "print('Testing loss:{:.4f}'.format(test_loss), 'Testing accuracy: {}%'.format(test_acc))"
   ]
  },
  {
   "cell_type": "markdown",
   "metadata": {},
   "source": [
    "Testing loss:0.4451 Testing accuracy: 87.93016052246094%\n",
    "Save the checkpoint\n",
    "Now that your network is trained, save the model so you can load it later for making predictions. You probably want to save other things such as the mapping of classes to indices which you get from one of the image datasets: image_datasets['train'].class_to_idx. You can attach this to the model as an attribute which makes inference easier later on.\n",
    "\n",
    "model.class_to_idx = image_datasets['train'].class_to_idx\n",
    "\n",
    "Remember that you'll want to completely rebuild the model later so you can use it for inference. Make sure to include any information you need in the checkpoint. If you want to load the model and keep training, you'll want to save the number of epochs as well as the optimizer state, optimizer.state_dict. You'll likely want to use this trained model in the next part of the project, so best to save it now."
   ]
  },
  {
   "cell_type": "code",
   "execution_count": null,
   "metadata": {},
   "outputs": [],
   "source": [
    "#this dictionary captures the index associated with each class value; class values are keys, indices are values\n",
    "model.class_to_idx = train_data.class_to_idx\n",
    "model.class_to_idx"
   ]
  },
  {
   "cell_type": "code",
   "execution_count": null,
   "metadata": {},
   "outputs": [],
   "source": [
    "model"
   ]
  },
  {
   "cell_type": "code",
   "execution_count": null,
   "metadata": {},
   "outputs": [],
   "source": [
    "# DONE: Save the checkpoint \n",
    "#saves the number of epochs, the entire model, the optimizer, and the class_to_idx dictionary\n",
    "checkpoint = {\n",
    "              'epochs':35,\n",
    "              'model':model, \n",
    "              'optimizer_state': optimizer.state_dict(),\n",
    "               'class_to_idx': model.class_to_idx\n",
    "             }"
   ]
  },
  {
   "cell_type": "code",
   "execution_count": null,
   "metadata": {},
   "outputs": [],
   "source": [
    "torch.save(checkpoint, 'checkpoint.pth') #saves the checkpoint as a pth file for inference later"
   ]
  },
  {
   "cell_type": "markdown",
   "metadata": {},
   "source": [
    "Loading the checkpoint\n",
    "At this point it's good to write a function that can load a checkpoint and rebuild the model. That way you can come back to this project and keep working on it without having to retrain the network."
   ]
  },
  {
   "cell_type": "code",
   "execution_count": null,
   "metadata": {},
   "outputs": [],
   "source": [
    "# DONE: Write a function that loads a checkpoint and rebuilds the model\n",
    "def load_checkpoint(path):\n",
    "    \n",
    "    checkpoint = torch.load(path)#loads entire checkpoint as a dictionary\n",
    "    model = checkpoint['model']#captures the model with weights and biases\n",
    "    optimizer = checkpoint['optimizer_state']#captures the optimizer and its parameters \n",
    "    model.class_to_idx = checkpoint['class_to_idx']\n",
    "    \n",
    "    return checkpoint, optimizer, model.class_to_idx\n",
    "\n",
    "checkpoint, optimizer, class_to_idx = load_checkpoint('checkpoint.pth')\n",
    "checkpoint, optimizer"
   ]
  },
  {
   "cell_type": "markdown",
   "metadata": {},
   "source": [
    "Inference for classification¶\n",
    "Now you'll write a function to use a trained network for inference. That is, you'll pass an image into the network and predict the class of the flower in the image. Write a function called predict that takes an image and a model, then returns the top $K$ most likely classes along with the probabilities. It should look like\n",
    "\n",
    "probs, classes = predict(image_path, model)\n",
    "print(probs)\n",
    "print(classes)\n",
    "> [ 0.01558163  0.01541934  0.01452626  0.01443549  0.01407339]\n",
    "> ['70', '3', '45', '62', '55']"
   ]
  },
  {
   "cell_type": "markdown",
   "metadata": {},
   "source": [
    "First you'll need to handle processing the input image such that it can be used in your network.\n",
    "\n",
    "Image Preprocessing\n",
    "You'll want to use PIL to load the image (documentation). It's best to write a function that preprocesses the image so it can be used as input for the model. This function should process the images in the same manner used for training.\n",
    "\n",
    "First, resize the images where the shortest side is 256 pixels, keeping the aspect ratio. This can be done with the thumbnail or resize methods. Then you'll need to crop out the center 224x224 portion of the image.\n",
    "\n",
    "Color channels of images are typically encoded as integers 0-255, but the model expected floats 0-1. You'll need to convert the values. It's easiest with a Numpy array, which you can get from a PIL image like so np_image = np.array(pil_image).\n",
    "\n",
    "As before, the network expects the images to be normalized in a specific way. For the means, it's [0.485, 0.456, 0.406] and for the standard deviations [0.229, 0.224, 0.225]. You'll want to subtract the means from each color channel, then divide by the standard deviation.\n",
    "\n",
    "And finally, PyTorch expects the color channel to be the first dimension but it's the third dimension in the PIL image and Numpy array. You can reorder dimensions using ndarray.transpose. The color channel needs to be first and retain the order of the other two dimensions.\n",
    "\n",
    "Source: https://stackoverflow.com/questions/16646183/crop-an-image-in-the-centre-using-pil for center cropping images to 224X224 I could have used the transforms module, but I thought it wise to also learn how to crop using PIL"
   ]
  },
  {
   "cell_type": "code",
   "execution_count": null,
   "metadata": {},
   "outputs": [],
   "source": [
    "def process_image(image):\n",
    "    ''' Scales, crops, and normalizes a PIL image for a PyTorch model,\n",
    "        returns an Numpy array\n",
    "    '''\n",
    "    \n",
    "    img = PIL.Image.open(image)\n",
    "    \n",
    "    min_leng = 256 #shortest side is 256 pixels, the minimum length\n",
    "    ratio = min_leng/min(img.size) #this is used to retain the aspect ratio after cropping\n",
    "    other_leng = int(max(img.size)*ratio) #this captures the longer side of the image\n",
    "    img = img.resize((min_leng,other_leng), PIL.Image.ANTIALIAS) \n",
    "    \n",
    "    #center cropping image to 224 X 224\n",
    "    left = (min_leng - 224)/2\n",
    "    top = (other_leng - 224)/2\n",
    "    right = (min_leng + 224)/2\n",
    "    bottom = (other_leng + 224)/2\n",
    "    img = img.crop((left, top, right, bottom))\n",
    "\n",
    "    #converts the PIL image to a numpy array and scales the image to range [0,1]\n",
    "    np_img = np.array(img)/np.max(img)\n",
    "    \n",
    "    #means and standard deviations of the red, green, blue channels, respectively\n",
    "    means = np.array([0.485, 0.456, 0.406])\n",
    "    stds = np.array([0.229, 0.224, 0.225])\n",
    "    \n",
    "    #normalizes the image\n",
    "    np_img = (np_img - means)/stds\n",
    "    \n",
    "    #transposes the image so the color channels are first for pytorch format\n",
    "    np_img = np.ndarray.transpose(np_img)\n",
    "    \n",
    "    py_tensor = torch.from_numpy(np_img) #converts the numpy array into a pytorch tensor\n",
    "    \n",
    "    return py_tensor\n",
    "\n",
    "#this just tests the output on a random image picked from google images\n",
    "img = process_image('pink_flower.jpg')\n",
    "img.shape"
   ]
  },
  {
   "cell_type": "code",
   "execution_count": null,
   "metadata": {},
   "outputs": [],
   "source": [
    "def imshow(image_path, ax=None, title=None):\n",
    "    if ax is None:\n",
    "        fig, ax = plt.subplots()\n",
    "    \n",
    "    image = process_image(image_path)\n",
    "    image = image.numpy() #converts pytorch tensor to numpy array\n",
    "    \n",
    "    # PyTorch tensors assume the color channel is the first dimension\n",
    "    # but matplotlib assumes is the third dimension\n",
    "    image = image.transpose((1, 2, 0))\n",
    "    \n",
    "    # Undo preprocessing\n",
    "    mean = np.array([0.485, 0.456, 0.406])\n",
    "    std = np.array([0.229, 0.224, 0.225])\n",
    "    image = std * image + mean\n",
    "    \n",
    "    # Image needs to be clipped between 0 and 1 or it looks like noise when displayed\n",
    "    image = np.clip(image, 0, 1)\n",
    "    \n",
    "    ax.imshow(image)\n",
    "    \n",
    "    return ax\n",
    "\n",
    "imshow('flowers/test/101/image_07988.jpg');"
   ]
  },
  {
   "cell_type": "markdown",
   "metadata": {},
   "source": [
    "Class Prediction\n",
    "Once you can get images in the correct format, it's time to write a function for making predictions with your model. A common practice is to predict the top 5 or so (usually called top-$K$) most probable classes. You'll want to calculate the class probabilities then find the $K$ largest values.\n",
    "\n",
    "To get the top $K$ largest values in a tensor use x.topk(k). This method returns both the highest k probabilities and the indices of those probabilities corresponding to the classes. You need to convert from these indices to the actual class labels using class_to_idx which hopefully you added to the model or from an ImageFolder you used to load the data (see here). Make sure to invert the dictionary so you get a mapping from index to class as well.\n",
    "\n",
    "Again, this method should take a path to an image and a model checkpoint, then return the probabilities and classes.\n",
    "\n",
    "probs, classes = predict(image_path, model)\n",
    "print(probs)\n",
    "print(classes)\n",
    "> [ 0.01558163  0.01541934  0.01452626  0.01443549  0.01407339]\n",
    "> ['70', '3', '45', '62', '55']"
   ]
  },
  {
   "cell_type": "code",
   "execution_count": null,
   "metadata": {},
   "outputs": [],
   "source": [
    "def predict(image_path, device):\n",
    "    ''' Predict the class (or classes) of an image using a trained deep learning model.\n",
    "    '''\n",
    "    img = process_image(image_path).float()\n",
    "    img = img.unsqueeze_(0)\n",
    "    \n",
    "    checkpoint, _, class_to_idx = load_checkpoint('checkpoint.pth')\n",
    "    \n",
    "    model = checkpoint['model']\n",
    "    \n",
    "    model.eval() #turns dropout off \n",
    "    \n",
    "    with torch.no_grad(): #gradient turned off because during prediction we want to know the result from training\n",
    "        \n",
    "        output = model.forward(img.to(device))\n",
    "        probs, class_indices = F.softmax(output.data,dim=1).topk(5)\n",
    "        \n",
    "        probs = list(np.array(probs[0]))\n",
    "        \n",
    "        class_indices = list(np.array(class_indices[0]))\n",
    "        \n",
    "        classes = [k for k,v in checkpoint['class_to_idx'].items() if v in class_indices]\n",
    "        \n",
    "    return probs, classes\n",
    "\n",
    "probs, classes = predict('flowers/test/101/image_07988.jpg', 'cuda')\n",
    "print(probs)\n",
    "print(classes)\n",
    "    \n",
    "    # DONE: Implement the code to predict the class from an image file"
   ]
  },
  {
   "cell_type": "markdown",
   "metadata": {},
   "source": [
    "Sanity Checking\n",
    "Now that you can use a trained model for predictions, check to make sure it makes sense. Even if the testing accuracy is high, it's always good to check that there aren't obvious bugs. Use matplotlib to plot the probabilities for the top 5 classes as a bar graph, along with the input image. It should look like this:\n",
    "\n",
    "<img src='assets/inference_example.png' width=300px>\n",
    "\n",
    "You can convert from the class integer encoding to actual flower names with the cat_to_name.json file (should have been loaded earlier in the notebook). To show a PyTorch tensor as an image, use the imshow function defined above."
   ]
  },
  {
   "cell_type": "code",
   "execution_count": null,
   "metadata": {},
   "outputs": [],
   "source": [
    "plt.figure(figsize = [15,5])\n",
    "\n",
    "#left plot\n",
    "img_path = test_dir + '/101/image_07988.jpg'\n",
    "ax1 = imshow(img_path, ax=plt.subplot(1, 2, 1))\n",
    "ax1.set_title(cat_to_name['101'])\n",
    "\n",
    "probs, classes = predict(img_path)\n",
    "class_names = [cat_to_name[i] for i in classes]\n",
    "#right plot\n",
    "plt.subplot(1,2,2)\n",
    "sb.barplot(x=probs, y = class_names, color='blue')\n",
    "plt.xlabel('Probability')\n",
    "\n",
    "plt.show();"
   ]
  }
 ],
 "metadata": {
  "kernelspec": {
   "display_name": "Python 3",
   "language": "python",
   "name": "python3"
  },
  "language_info": {
   "codemirror_mode": {
    "name": "ipython",
    "version": 3
   },
   "file_extension": ".py",
   "mimetype": "text/x-python",
   "name": "python",
   "nbconvert_exporter": "python",
   "pygments_lexer": "ipython3",
   "version": "3.7.1"
  }
 },
 "nbformat": 4,
 "nbformat_minor": 2
}
